{
 "cells": [
  {
   "cell_type": "markdown",
   "metadata": {},
   "source": [
    "# pyATS Demo"
   ]
  },
  {
   "cell_type": "markdown",
   "metadata": {},
   "source": [
    "**Load the pyATS libraries**"
   ]
  },
  {
   "cell_type": "code",
   "execution_count": 1,
   "metadata": {},
   "outputs": [],
   "source": [
    "from genie.testbed import load\n",
    "import pprint"
   ]
  },
  {
   "cell_type": "markdown",
   "metadata": {},
   "source": [
    "**Activate the testbed YAML file**"
   ]
  },
  {
   "cell_type": "code",
   "execution_count": 2,
   "metadata": {},
   "outputs": [],
   "source": [
    "testbed = load('tb.yml')"
   ]
  },
  {
   "cell_type": "markdown",
   "metadata": {},
   "source": [
    "**Check the devices included in testbed**"
   ]
  },
  {
   "cell_type": "code",
   "execution_count": 3,
   "metadata": {},
   "outputs": [
    {
     "name": "stdout",
     "output_type": "stream",
     "text": [
      "TopologyDict({'abr': <Device abr at 0x7f95440da3d0>})\n"
     ]
    }
   ],
   "source": [
    "testbed.devices\n",
    "print(testbed.devices)"
   ]
  },
  {
   "cell_type": "code",
   "execution_count": 4,
   "metadata": {},
   "outputs": [],
   "source": [
    "xr1 = testbed.devices['abr']"
   ]
  },
  {
   "cell_type": "markdown",
   "metadata": {},
   "source": [
    "**Connect to xr1**"
   ]
  },
  {
   "cell_type": "code",
   "execution_count": 5,
   "metadata": {},
   "outputs": [],
   "source": [
    "xr1.connect(log_stdout=False)"
   ]
  },
  {
   "cell_type": "code",
   "execution_count": 6,
   "metadata": {},
   "outputs": [
    {
     "name": "stdout",
     "output_type": "stream",
     "text": [
      "{'module_name': {'0/0': {'descr': 'Cisco IOS-XRv 9000 Centralized Line Card',\n",
      "                         'pid': 'R-IOSXRV9000-LC-C',\n",
      "                         'sn': '3BB28ABF246',\n",
      "                         'vid': 'V01'},\n",
      "                 '0/0/0': {'descr': 'N/A',\n",
      "                           'pid': 'PORT-1G-NIC',\n",
      "                           'sn': 'N/A',\n",
      "                           'vid': 'N/A'},\n",
      "                 '0/0/1': {'descr': 'N/A',\n",
      "                           'pid': 'PORT-1G-NIC',\n",
      "                           'sn': 'N/A',\n",
      "                           'vid': 'N/A'},\n",
      "                 '0/0/2': {'descr': 'N/A',\n",
      "                           'pid': 'PORT-1G-NIC',\n",
      "                           'sn': 'N/A',\n",
      "                           'vid': 'N/A'},\n",
      "                 '0/0/3': {'descr': 'N/A',\n",
      "                           'pid': 'PORT-1G-NIC',\n",
      "                           'sn': 'N/A',\n",
      "                           'vid': 'N/A'},\n",
      "                 '0/0/4': {'descr': 'N/A',\n",
      "                           'pid': 'PORT-1G-NIC',\n",
      "                           'sn': 'N/A',\n",
      "                           'vid': 'N/A'},\n",
      "                 '0/RP0': {'descr': 'Cisco IOS-XRv 9000 Centralized Route '\n",
      "                                    'Processor',\n",
      "                           'pid': 'R-IOSXRV9000-RP-C',\n",
      "                           'sn': 'DEA57F7D7A1',\n",
      "                           'vid': 'V01'},\n",
      "                 'Rack 0': {'descr': 'Cisco IOS-XRv 9000 Centralized Virtual '\n",
      "                                     'Router',\n",
      "                            'pid': 'R-IOSXRV9000-CC',\n",
      "                            'sn': '53FCE625E77',\n",
      "                            'vid': 'V01'}}}\n"
     ]
    }
   ],
   "source": [
    "for name, dev in testbed.devices.items():\n",
    "    dev.connect(log_stdout=False)\n",
    "    shver=dev.parse('show inventory')\n",
    "    pprint.pprint(shver)"
   ]
  },
  {
   "cell_type": "code",
   "execution_count": 7,
   "metadata": {},
   "outputs": [
    {
     "data": {
      "text/plain": [
       "'\\rFri Feb 26 14:48:54.364 UTC\\r\\nCisco IOS XR Software, Version 7.1.1\\r\\nCopyright (c) 2013-2020 by Cisco Systems, Inc.\\r\\n\\r\\nBuild Information:\\r\\n Built By     : deenayak\\r\\n Built On     : Mon Jan 27 01:20:49 PST 2020\\r\\n Built Host   : iox-ucs-033\\r\\n Workspace    : /auto/srcarchive15/prod/7.1.1/xrv9k/ws\\r\\n Version      : 7.1.1\\r\\n Location     : /opt/cisco/XR/packages/\\r\\n Label        : 7.1.1\\r\\n\\r\\ncisco IOS-XRv 9000 () processor\\r\\nSystem uptime is 3 weeks 3 days 12 hours 42 minutes'"
      ]
     },
     "execution_count": 7,
     "metadata": {},
     "output_type": "execute_result"
    }
   ],
   "source": [
    "xr1.execute('show version')"
   ]
  },
  {
   "cell_type": "code",
   "execution_count": 8,
   "metadata": {},
   "outputs": [
    {
     "data": {
      "text/plain": [
       "{'operating_system': 'IOSXR',\n",
       " 'software_version': '7.1.1',\n",
       " 'device_family': 'IOS-XRv 9000',\n",
       " 'uptime': '3 weeks 3 days 12 hours 42 minutes'}"
      ]
     },
     "execution_count": 8,
     "metadata": {},
     "output_type": "execute_result"
    }
   ],
   "source": [
    "xr1.parse('show version')"
   ]
  },
  {
   "cell_type": "code",
   "execution_count": 9,
   "metadata": {},
   "outputs": [
    {
     "data": {
      "text/plain": [
       "'7.1.1'"
      ]
     },
     "execution_count": 9,
     "metadata": {},
     "output_type": "execute_result"
    }
   ],
   "source": [
    "xr1.parse('show version')['software_version']"
   ]
  },
  {
   "cell_type": "code",
   "execution_count": 10,
   "metadata": {},
   "outputs": [
    {
     "data": {
      "text/plain": [
       "'IOSXR'"
      ]
     },
     "execution_count": 10,
     "metadata": {},
     "output_type": "execute_result"
    }
   ],
   "source": [
    "xr1.parse('show version')['operating_system']"
   ]
  },
  {
   "cell_type": "code",
   "execution_count": 11,
   "metadata": {},
   "outputs": [
    {
     "data": {
      "text/plain": [
       "{'GigabitEthernet0/0/0/0': {'enabled': True,\n",
       "  'line_protocol': 'up',\n",
       "  'oper_status': 'up',\n",
       "  'interface_state_transitions': 1,\n",
       "  'type': 'GigabitEthernet',\n",
       "  'mac_address': 'fa16.3e02.46ff',\n",
       "  'phys_address': 'fa16.3e02.46ff',\n",
       "  'description': 'Hello',\n",
       "  'ipv4': {'10.0.0.5/30': {'ip': '10.0.0.5', 'prefix_length': '30'}},\n",
       "  'mtu': 1514,\n",
       "  'bandwidth': 1000000,\n",
       "  'bandwidth_max': 1000000,\n",
       "  'reliability': '255/255',\n",
       "  'txload': '0/255',\n",
       "  'rxload': '0/255',\n",
       "  'encapsulations': {'encapsulation': 'arpa'},\n",
       "  'duplex_mode': 'unknown',\n",
       "  'port_speed': '1000Mb/s',\n",
       "  'link_type': 'force-up',\n",
       "  'auto_negotiate': False,\n",
       "  'flow_control': {'receive': False, 'send': False},\n",
       "  'loopback': 'not set',\n",
       "  'last_link_flapped': '3w3d',\n",
       "  'arp_type': 'arpa',\n",
       "  'arp_timeout': '04:00:00',\n",
       "  'last_input': '00:00:08',\n",
       "  'last_output': '00:00:08',\n",
       "  'counters': {'last_clear': '13:50:03',\n",
       "   'rate': {'load_interval': 300,\n",
       "    'in_rate': 0,\n",
       "    'in_rate_pkts': 0,\n",
       "    'out_rate': 0,\n",
       "    'out_rate_pkts': 0},\n",
       "   'in_pkts': 8192,\n",
       "   'in_octets': 789192,\n",
       "   'in_total_drops': 0,\n",
       "   'in_unknown_protos': 0,\n",
       "   'in_broadcast_pkts': 0,\n",
       "   'in_multicast_pkts': 0,\n",
       "   'in_runts': 0,\n",
       "   'in_giants': 0,\n",
       "   'in_throttles': 0,\n",
       "   'in_parity': 0,\n",
       "   'in_errors': 0,\n",
       "   'in_crc_errors': 0,\n",
       "   'in_frame': 0,\n",
       "   'in_overrun': 0,\n",
       "   'in_ignored': 0,\n",
       "   'in_abort': 0,\n",
       "   'out_pkts': 6579,\n",
       "   'out_octets': 705059,\n",
       "   'out_total_drops': 0,\n",
       "   'out_broadcast_pkts': 0,\n",
       "   'out_multicast_pkts': 0,\n",
       "   'out_errors': 0,\n",
       "   'out_underruns': 0,\n",
       "   'out_applique': 0,\n",
       "   'out_resets': 0,\n",
       "   'out_buffer_failure': 0,\n",
       "   'out_buffers_swapped': 0,\n",
       "   'carrier_transitions': 0}}}"
      ]
     },
     "execution_count": 11,
     "metadata": {},
     "output_type": "execute_result"
    }
   ],
   "source": [
    "#intfs = xr1.parse('show interfaces Gi0/0/0/0')\n",
    "int_name=\"GigabitEthernet0/0/0/0\"\n",
    "intfs=xr1.parse(f'show interfaces {int_name}')\n",
    "intfs"
   ]
  },
  {
   "cell_type": "code",
   "execution_count": 12,
   "metadata": {},
   "outputs": [
    {
     "data": {
      "text/plain": [
       "'up'"
      ]
     },
     "execution_count": 12,
     "metadata": {},
     "output_type": "execute_result"
    }
   ],
   "source": [
    "#intfs['GigabitEthernet0/0/0/0']['oper_status']\n",
    "intfs[int_name]['oper_status']"
   ]
  },
  {
   "cell_type": "code",
   "execution_count": null,
   "metadata": {},
   "outputs": [],
   "source": [
    "#intfs['GigabitEthernet0/0/0/0']['counters']['in_crc_errors']\n",
    "intfs[int_name]['counters']['in_crc_errors']"
   ]
  },
  {
   "cell_type": "code",
   "execution_count": 13,
   "metadata": {},
   "outputs": [
    {
     "data": {
      "text/plain": [
       "{'instance': {'all': {'vrf': {'default': {'neighbor': {'1.1.1.1': {'remote_as': 1,\n",
       "       'link_state': 'internal link',\n",
       "       'local_as_as_no': 1,\n",
       "       'local_as_no_prepend': False,\n",
       "       'local_as_replace_as': False,\n",
       "       'local_as_dual_as': False,\n",
       "       'description': 'iBGP peer csr1',\n",
       "       'router_id': '0.0.0.0',\n",
       "       'session_state': 'active',\n",
       "       'nsr_state': 'None',\n",
       "       'last_read': '00:00:00',\n",
       "       'last_read_before_reset': '00:06:26',\n",
       "       'holdtime': 180,\n",
       "       'keepalive_interval': 60,\n",
       "       'min_acceptable_hold_time': 3,\n",
       "       'last_write': '00:06:26',\n",
       "       'attempted': 19,\n",
       "       'written': 19,\n",
       "       'second_last_write': '00:07:26',\n",
       "       'second_attempted': 19,\n",
       "       'second_written': 19,\n",
       "       'last_write_before_reset': '00:06:26',\n",
       "       'last_write_attempted': 19,\n",
       "       'last_write_written': 19,\n",
       "       'second_last_write_before_reset': '00:07:26',\n",
       "       'second_last_write_before_attempted': 19,\n",
       "       'second_last_write_before_written': 19,\n",
       "       'last_write_pulse_rcvd': 'Feb 26 14:44:33.788 ',\n",
       "       'last_full_not_set_pulse_count': 69142,\n",
       "       'last_write_pulse_rcvd_before_reset': '00:06:25',\n",
       "       'last_write_thread_event_before_reset': '00:06:24',\n",
       "       'last_write_thread_event_second_last': '00:06:24',\n",
       "       'last_ka_expiry_before_reset': '00:06:26',\n",
       "       'last_ka_expiry_before_second_last': '00:07:26',\n",
       "       'last_ka_error_before_reset': '00:00:00',\n",
       "       'last_ka_error_ka_not_sent': '00:00:00',\n",
       "       'last_ka_start_before_reset': '00:06:26',\n",
       "       'last_ka_start_before_second_last': '00:07:26',\n",
       "       'precedence': 'internet',\n",
       "       'non_stop_routing': True,\n",
       "       'multiprotocol_capability': 'received',\n",
       "       'minimum_time_between_adv_runs': 0,\n",
       "       'inbound_message': '3',\n",
       "       'outbound_message': '3',\n",
       "       'address_family': {'ipv4 unicast': {'neighbor_version': 0,\n",
       "         'update_group': '0.2',\n",
       "         'filter_group': '0.0',\n",
       "         'refresh_request_status': 'No Refresh request being processed',\n",
       "         'route_refresh_request_received': 0,\n",
       "         'route_refresh_request_sent': 0,\n",
       "         'accepted_prefixes': 0,\n",
       "         'best_paths': 0,\n",
       "         'exact_no_prefixes_denied': 0,\n",
       "         'cummulative_no_prefixes_denied': 0,\n",
       "         'prefix_advertised': 0,\n",
       "         'prefix_suppressed': 0,\n",
       "         'prefix_withdrawn': 0,\n",
       "         'maximum_prefix_max_prefix_no': 1048576,\n",
       "         'maximum_prefix_warning_only': True,\n",
       "         'maximum_prefix_threshold': '75%',\n",
       "         'maximum_prefix_restart': 0,\n",
       "         'eor_status': 'was received during read-only mode',\n",
       "         'last_synced_ack_version': 0,\n",
       "         'last_ack_version': 0,\n",
       "         'additional_paths_operation': 'None',\n",
       "         'send_multicast_attributes': True,\n",
       "         'additional_routes_local_label': 'Unicast SAFI'}},\n",
       "       'bgp_session_transport': {'connection': {'state': 'established',\n",
       "         'connections_established': 6,\n",
       "         'connections_dropped': 6},\n",
       "        'transport': {'local_host': '5.5.5.5',\n",
       "         'local_port': '179',\n",
       "         'if_handle': '0x00000000',\n",
       "         'foreign_host': '1.1.1.1',\n",
       "         'foreign_port': '18542'}}},\n",
       "      '2.2.2.2': {'remote_as': 1,\n",
       "       'link_state': 'internal link',\n",
       "       'local_as_as_no': 1,\n",
       "       'local_as_no_prepend': False,\n",
       "       'local_as_replace_as': False,\n",
       "       'local_as_dual_as': False,\n",
       "       'description': 'iBGP peer csr2',\n",
       "       'router_id': '2.2.2.2',\n",
       "       'session_state': 'established',\n",
       "       'up_time': '1d14h',\n",
       "       'nsr_state': 'None',\n",
       "       'holdtime': 180,\n",
       "       'keepalive_interval': 60,\n",
       "       'min_acceptable_hold_time': 3,\n",
       "       'last_write': '00:00:24',\n",
       "       'attempted': 19,\n",
       "       'written': 19,\n",
       "       'second_last_write': '00:01:24',\n",
       "       'second_attempted': 19,\n",
       "       'second_written': 19,\n",
       "       'last_write_pulse_rcvd': 'Feb 26 14:50:35.285 ',\n",
       "       'last_full_not_set_pulse_count': 65071,\n",
       "       'last_ka_error_before_reset': '00:00:00',\n",
       "       'last_ka_error_ka_not_sent': '00:00:00',\n",
       "       'precedence': 'internet',\n",
       "       'non_stop_routing': True,\n",
       "       'multiprotocol_capability': 'received',\n",
       "       'minimum_time_between_adv_runs': 0,\n",
       "       'inbound_message': '3',\n",
       "       'outbound_message': '3',\n",
       "       'address_family': {'ipv4 unicast': {'neighbor_version': 22,\n",
       "         'update_group': '0.2',\n",
       "         'filter_group': '0.1',\n",
       "         'refresh_request_status': 'No Refresh request being processed',\n",
       "         'route_refresh_request_received': 0,\n",
       "         'route_refresh_request_sent': 0,\n",
       "         'accepted_prefixes': 1,\n",
       "         'best_paths': 1,\n",
       "         'exact_no_prefixes_denied': 0,\n",
       "         'cummulative_no_prefixes_denied': 0,\n",
       "         'prefix_advertised': 1,\n",
       "         'prefix_suppressed': 0,\n",
       "         'prefix_withdrawn': 0,\n",
       "         'maximum_prefix_max_prefix_no': 1048576,\n",
       "         'maximum_prefix_warning_only': True,\n",
       "         'maximum_prefix_threshold': '75%',\n",
       "         'maximum_prefix_restart': 0,\n",
       "         'eor_status': 'was received during read-only mode',\n",
       "         'last_synced_ack_version': 0,\n",
       "         'last_ack_version': 22,\n",
       "         'additional_paths_operation': 'None',\n",
       "         'send_multicast_attributes': True,\n",
       "         'additional_routes_local_label': 'Unicast SAFI'}},\n",
       "       'bgp_session_transport': {'connection': {'state': 'established',\n",
       "         'connections_established': 4,\n",
       "         'connections_dropped': 3},\n",
       "        'transport': {'local_host': '5.5.5.5',\n",
       "         'local_port': '179',\n",
       "         'if_handle': '0x00000000',\n",
       "         'foreign_host': '2.2.2.2',\n",
       "         'foreign_port': '31944'}}}}}}}}}"
      ]
     },
     "execution_count": 13,
     "metadata": {},
     "output_type": "execute_result"
    }
   ],
   "source": [
    "bgp_nbr = xr1.parse('show bgp neighbors')\n",
    "bgp_nbr"
   ]
  },
  {
   "cell_type": "code",
   "execution_count": 14,
   "metadata": {},
   "outputs": [
    {
     "data": {
      "text/plain": [
       "'active'"
      ]
     },
     "execution_count": 14,
     "metadata": {},
     "output_type": "execute_result"
    }
   ],
   "source": [
    "bgp_nbr['instance']['all']['vrf']['default']['neighbor']['1.1.1.1']['session_state']"
   ]
  },
  {
   "cell_type": "code",
   "execution_count": 15,
   "metadata": {},
   "outputs": [],
   "source": [
    "nbr_ip=bgp_nbr['instance']['all']['vrf']['default']['neighbor']"
   ]
  },
  {
   "cell_type": "code",
   "execution_count": 16,
   "metadata": {},
   "outputs": [
    {
     "name": "stdout",
     "output_type": "stream",
     "text": [
      "1.1.1.1 active\n",
      "2.2.2.2 established\n"
     ]
    }
   ],
   "source": [
    "for nbr, vals in nbr_ip.items():\n",
    "    state=vals['session_state']\n",
    "    print(nbr, state)"
   ]
  },
  {
   "cell_type": "code",
   "execution_count": 17,
   "metadata": {},
   "outputs": [
    {
     "name": "stdout",
     "output_type": "stream",
     "text": [
      "Number of BGP established neighbors is 1\n"
     ]
    }
   ],
   "source": [
    "nbr_cnt=0\n",
    "for nbr, vals in nbr_ip.items():\n",
    "    state=vals['session_state']\n",
    "    #print(nbr, state)\n",
    "    \n",
    "    if state.lower() == \"established\":\n",
    "        nbr_cnt += 1\n",
    "    else:\n",
    "        continue\n",
    "print(f\"Number of BGP established neighbors is {nbr_cnt}\")"
   ]
  },
  {
   "cell_type": "code",
   "execution_count": null,
   "metadata": {},
   "outputs": [],
   "source": [
    "ping_test=xr1.parse('ping 1.1.1.1 source 5.5.5.5 repeat 3')"
   ]
  },
  {
   "cell_type": "code",
   "execution_count": null,
   "metadata": {},
   "outputs": [],
   "source": [
    "ping_result=ping_test['ping']['statistics']['success_rate_percent']\n",
    "ping_result"
   ]
  },
  {
   "cell_type": "code",
   "execution_count": null,
   "metadata": {},
   "outputs": [],
   "source": [
    "xr1.disconnect()"
   ]
  },
  {
   "cell_type": "code",
   "execution_count": null,
   "metadata": {},
   "outputs": [],
   "source": []
  }
 ],
 "metadata": {
  "kernelspec": {
   "display_name": "py3venv",
   "language": "python",
   "name": "py3venv"
  },
  "language_info": {
   "codemirror_mode": {
    "name": "ipython",
    "version": 3
   },
   "file_extension": ".py",
   "mimetype": "text/x-python",
   "name": "python",
   "nbconvert_exporter": "python",
   "pygments_lexer": "ipython3",
   "version": "3.8.5"
  }
 },
 "nbformat": 4,
 "nbformat_minor": 4
}
