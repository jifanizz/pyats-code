{
 "cells": [
  {
   "cell_type": "markdown",
   "metadata": {},
   "source": [
    "# pyATS Demo"
   ]
  },
  {
   "cell_type": "markdown",
   "metadata": {},
   "source": [
    "**Load the pyATS libraries**"
   ]
  },
  {
   "cell_type": "code",
   "execution_count": 1,
   "metadata": {},
   "outputs": [],
   "source": [
    "from genie.testbed import load\n",
    "import pprint"
   ]
  },
  {
   "cell_type": "markdown",
   "metadata": {},
   "source": [
    "**Activate the testbed YAML file**"
   ]
  },
  {
   "cell_type": "code",
   "execution_count": 2,
   "metadata": {},
   "outputs": [],
   "source": [
    "testbed = load('xr-tb-all.yaml')"
   ]
  },
  {
   "cell_type": "markdown",
   "metadata": {},
   "source": [
    "**Check the devices included in testbed**"
   ]
  },
  {
   "cell_type": "code",
   "execution_count": 3,
   "metadata": {},
   "outputs": [
    {
     "name": "stdout",
     "output_type": "stream",
     "text": [
      "TopologyDict({'xr1': <Device xr1 at 0x7f964991b100>, 'xr2': <Device xr2 at 0x7f964991b040>, 'xr3': <Device xr3 at 0x7f9649932220>})\n"
     ]
    }
   ],
   "source": [
    "testbed.devices\n",
    "print(testbed.devices)"
   ]
  },
  {
   "cell_type": "code",
   "execution_count": 4,
   "metadata": {},
   "outputs": [],
   "source": [
    "xr1 = testbed.devices['xr1']"
   ]
  },
  {
   "cell_type": "markdown",
   "metadata": {},
   "source": [
    "**Connect to xr1**"
   ]
  },
  {
   "cell_type": "code",
   "execution_count": 5,
   "metadata": {},
   "outputs": [],
   "source": [
    "xr1.connect(log_stdout=False)"
   ]
  },
  {
   "cell_type": "code",
   "execution_count": 6,
   "metadata": {},
   "outputs": [
    {
     "name": "stdout",
     "output_type": "stream",
     "text": [
      "{'module_name': {'0/0/CPU0': {'descr': 'Route Processor type (16, 0)',\n",
      "                              'pid': 'IOSXRV',\n",
      "                              'sn': 'N/A',\n",
      "                              'vid': 'V01'}}}\n",
      "{'module_name': {'0/0/CPU0': {'descr': 'Route Processor type (16, 0)',\n",
      "                              'pid': 'IOSXRV',\n",
      "                              'sn': 'N/A',\n",
      "                              'vid': 'V01'}}}\n",
      "{'module_name': {'0/0/CPU0': {'descr': 'Route Processor type (16, 0)',\n",
      "                              'pid': 'IOSXRV',\n",
      "                              'sn': 'N/A',\n",
      "                              'vid': 'V01'}}}\n"
     ]
    }
   ],
   "source": [
    "for name, dev in testbed.devices.items():\n",
    "    dev.connect(log_stdout=False)\n",
    "    shver=dev.parse('show inventory')\n",
    "    pprint.pprint(shver)"
   ]
  },
  {
   "cell_type": "code",
   "execution_count": 7,
   "metadata": {},
   "outputs": [
    {
     "data": {
      "text/plain": [
       "'\\rWed Jan 27 20:06:18.610 UTC\\r\\n\\r\\nCisco IOS XR Software, Version 6.3.1[Default]\\r\\nCopyright (c) 2017 by Cisco Systems, Inc.\\r\\n\\r\\nROM: GRUB, Version 1.99(0), DEV RELEASE\\r\\n\\r\\nxr1 uptime is 1 day, 6 hours, 24 minutes\\r\\nSystem image file is \"bootflash:disk0/xrvr-os-mbi-6.3.1/mbixrvr-rp.vm\"\\r\\n\\r\\ncisco IOS XRv Series (Intel 686 F6M15S0) processor with 3145343K bytes of memory.\\r\\nIntel 686 F6M15S0 processor at 2232MHz, Revision 2.174\\r\\nIOS XRv Chassis\\r\\n\\r\\n3 GigabitEthernet\\r\\n1 Management Ethernet\\r\\n97070k bytes of non-volatile configuration memory.\\r\\n866M bytes of hard disk.\\r\\n2321392k bytes of disk0: (Sector size 512 bytes).\\r\\n\\r\\nConfiguration register on node 0/0/CPU0 is 0x2102\\r\\nBoot device on node 0/0/CPU0 is disk0:\\r\\nPackage active on node 0/0/CPU0:\\r\\niosxr-infra, V 6.3.1[Default], Cisco Systems, at disk0:iosxr-infra-6.3.1\\r\\n    Built on Thu Sep 14 02:24:13 UTC 2017\\r\\n    By iox-lnx-052 in /auto/srcarchive11/production/6.3.1/xrvr/workspace for pie\\r\\n\\r\\niosxr-fwding, V 6.3.1[Default], Cisco Systems, at disk0:iosxr-fwding-6.3.1\\r\\n    Built on Thu Sep 14 02:24:13 UTC 2017\\r\\n    By iox-lnx-052 in /auto/srcarchive11/production/6.3.1/xrvr/workspace for pie\\r\\n\\r\\niosxr-routing, V 6.3.1[Default], Cisco Systems, at disk0:iosxr-routing-6.3.1\\r\\n    Built on Thu Sep 14 02:24:13 UTC 2017\\r\\n    By iox-lnx-052 in /auto/srcarchive11/production/6.3.1/xrvr/workspace for pie\\r\\n\\r\\niosxr-ce, V 6.3.1[Default], Cisco Systems, at disk0:iosxr-ce-6.3.1\\r\\n    Built on Thu Sep 14 02:24:13 UTC 2017\\r\\n    By iox-lnx-052 in /auto/srcarchive11/production/6.3.1/xrvr/workspace for pie\\r\\n\\r\\nxrvr-os-mbi, V 6.3.1[Default], Cisco Systems, at disk0:xrvr-os-mbi-6.3.1\\r\\n    Built on Thu Sep 14 02:24:45 UTC 2017\\r\\n    By iox-lnx-052 in /auto/srcarchive11/production/6.3.1/xrvr/workspace for pie\\r\\n\\r\\nxrvr-base, V 6.3.1[Default], Cisco Systems, at disk0:xrvr-base-6.3.1\\r\\n    Built on Thu Sep 14 02:24:13 UTC 2017\\r\\n    By iox-lnx-052 in /auto/srcarchive11/production/6.3.1/xrvr/workspace for pie\\r\\n\\r\\nxrvr-fwding, V 6.3.1[Default], Cisco Systems, at disk0:xrvr-fwding-6.3.1\\r\\n    Built on Thu Sep 14 02:24:13 UTC 2017\\r\\n    By iox-lnx-052 in /auto/srcarchive11/production/6.3.1/xrvr/workspace for pie\\r\\n\\r\\nxrvr-mgbl-x, V 6.3.1[Default], Cisco Systems, at disk0:xrvr-mgbl-x-6.3.1\\r\\n    Built on Thu Sep 14 02:24:17 UTC 2017\\r\\n    By iox-lnx-052 in /auto/srcarchive11/production/6.3.1/xrvr/workspace for pie\\r\\n\\r\\niosxr-mpls, V 6.3.1[Default], Cisco Systems, at disk0:iosxr-mpls-6.3.1\\r\\n    Built on Thu Sep 14 02:24:13 UTC 2017\\r\\n    By iox-lnx-052 in /auto/srcarchive11/production/6.3.1/xrvr/workspace for pie\\r\\n\\r\\niosxr-mgbl, V 6.3.1[Default], Cisco Systems, at disk0:iosxr-mgbl-6.3.1\\r\\n    Built on Thu Sep 14 02:24:13 UTC 2017\\r\\n    By iox-lnx-052 in /auto/srcarchive11/production/6.3.1/xrvr/workspace for pie\\r\\n\\r\\niosxr-mcast, V 6.3.1[Default], Cisco Systems, at disk0:iosxr-mcast-6.3.1\\r\\n    Built on Thu Sep 14 02:24:13 UTC 2017\\r\\n    By iox-lnx-052 in /auto/srcarchive11/production/6.3.1/xrvr/workspace for pie\\r\\n\\r\\nxrvr-mcast-supp, V 6.3.1[Default], Cisco Systems, at disk0:xrvr-mcast-supp-6.3.1\\r\\n    Built on Thu Sep 14 02:24:13 UTC 2017\\r\\n    By iox-lnx-052 in /auto/srcarchive11/production/6.3.1/xrvr/workspace for pie\\r\\n\\r\\niosxr-bng, V 6.3.1[Default], Cisco Systems, at disk0:iosxr-bng-6.3.1\\r\\n    Built on Thu Sep 14 02:24:14 UTC 2017\\r\\n    By iox-lnx-052 in /auto/srcarchive11/production/6.3.1/xrvr/workspace for pie\\r\\n\\r\\nxrvr-bng-supp, V 6.3.1[Default], Cisco Systems, at disk0:xrvr-bng-supp-6.3.1\\r\\n    Built on Thu Sep 14 02:24:14 UTC 2017\\r\\n    By iox-lnx-052 in /auto/srcarchive11/production/6.3.1/xrvr/workspace for pie\\r\\n\\r\\niosxr-security, V 6.3.1[Default], Cisco Systems, at disk0:iosxr-security-6.3.1\\r\\n    Built on Thu Sep 14 02:24:09 UTC 2017\\r\\n    By iox-lnx-052 in /auto/srcarchive11/production/6.3.1/xrvr/workspace for pie\\r\\n\\r\\nxrvr-fullk9-x, V 6.3.1[Default], Cisco Systems, at disk0:xrvr-fullk9-x-6.3.1\\r\\n    Built on Thu Sep 14 02:24:48 UTC 2017\\r\\n    By iox-lnx-052 in /auto/srcarchive11/production/6.3.1/xrvr/workspace for pie'"
      ]
     },
     "execution_count": 7,
     "metadata": {},
     "output_type": "execute_result"
    }
   ],
   "source": [
    "xr1.execute('show version')"
   ]
  },
  {
   "cell_type": "code",
   "execution_count": 8,
   "metadata": {},
   "outputs": [
    {
     "data": {
      "text/plain": [
       "{'operating_system': 'IOSXR',\n",
       " 'software_version': '6.3.1',\n",
       " 'uptime': '1 day, 6 hours, 25 minutes',\n",
       " 'image': 'bootflash:disk0/xrvr-os-mbi-6.3.1/mbixrvr-rp.vm',\n",
       " 'device_family': 'IOS XRv Series',\n",
       " 'processor': 'Intel 686 F6M15S0',\n",
       " 'processor_memory_bytes': '3145343K',\n",
       " 'main_mem': 'cisco IOS XRv Series (Intel 686 F6M15S0) processor with 3145343K bytes of memory.',\n",
       " 'chassis_detail': 'IOS XRv Chassis',\n",
       " 'config_register': '0x2102',\n",
       " 'rp_config_register': '0x2102'}"
      ]
     },
     "execution_count": 8,
     "metadata": {},
     "output_type": "execute_result"
    }
   ],
   "source": [
    "xr1.parse('show version')"
   ]
  },
  {
   "cell_type": "code",
   "execution_count": 9,
   "metadata": {},
   "outputs": [
    {
     "data": {
      "text/plain": [
       "'6.3.1'"
      ]
     },
     "execution_count": 9,
     "metadata": {},
     "output_type": "execute_result"
    }
   ],
   "source": [
    "xr1.parse('show version')['software_version']"
   ]
  },
  {
   "cell_type": "code",
   "execution_count": 10,
   "metadata": {},
   "outputs": [
    {
     "data": {
      "text/plain": [
       "'bootflash:disk0/xrvr-os-mbi-6.3.1/mbixrvr-rp.vm'"
      ]
     },
     "execution_count": 10,
     "metadata": {},
     "output_type": "execute_result"
    }
   ],
   "source": [
    "xr1.parse('show version')['image']"
   ]
  },
  {
   "cell_type": "code",
   "execution_count": 11,
   "metadata": {},
   "outputs": [
    {
     "data": {
      "text/plain": [
       "{'GigabitEthernet0/0/0/0': {'enabled': True,\n",
       "  'line_protocol': 'up',\n",
       "  'oper_status': 'up',\n",
       "  'interface_state_transitions': 1,\n",
       "  'type': 'GigabitEthernet',\n",
       "  'mac_address': '5254.0006.cbd8',\n",
       "  'phys_address': '5254.0006.cbd8',\n",
       "  'description': 'to GigabitEthernet0/0/0/0.xr2',\n",
       "  'ipv4': {'10.12.12.1/30': {'ip': '10.12.12.1', 'prefix_length': '30'}},\n",
       "  'mtu': 1514,\n",
       "  'bandwidth': 1000000,\n",
       "  'bandwidth_max': 1000000,\n",
       "  'reliability': '255/255',\n",
       "  'txload': '0/255',\n",
       "  'rxload': '0/255',\n",
       "  'encapsulations': {'encapsulation': 'arpa'},\n",
       "  'duplex_mode': 'full',\n",
       "  'port_speed': '1000Mb/s',\n",
       "  'link_type': 'force-up',\n",
       "  'auto_negotiate': False,\n",
       "  'media_type': 'unknown',\n",
       "  'flow_control': {'receive': False, 'send': False},\n",
       "  'carrier_delay_up': 10,\n",
       "  'loopback': 'not set',\n",
       "  'last_link_flapped': '1d06h',\n",
       "  'arp_type': 'arpa',\n",
       "  'arp_timeout': '04:00:00',\n",
       "  'last_input': '00:00:00',\n",
       "  'last_output': '00:00:00',\n",
       "  'counters': {'last_clear': 'never',\n",
       "   'rate': {'load_interval': 300,\n",
       "    'in_rate': 1000,\n",
       "    'in_rate_pkts': 0,\n",
       "    'out_rate': 1000,\n",
       "    'out_rate_pkts': 0},\n",
       "   'in_pkts': 52381,\n",
       "   'in_octets': 22453567,\n",
       "   'in_total_drops': 0,\n",
       "   'in_unknown_protos': 0,\n",
       "   'in_broadcast_pkts': 2,\n",
       "   'in_multicast_pkts': 48191,\n",
       "   'in_runts': 0,\n",
       "   'in_giants': 0,\n",
       "   'in_throttles': 0,\n",
       "   'in_parity': 0,\n",
       "   'in_errors': 0,\n",
       "   'in_crc_errors': 0,\n",
       "   'in_frame': 0,\n",
       "   'in_overrun': 0,\n",
       "   'in_ignored': 0,\n",
       "   'in_abort': 0,\n",
       "   'out_pkts': 52437,\n",
       "   'out_octets': 22470750,\n",
       "   'out_total_drops': 0,\n",
       "   'out_broadcast_pkts': 1,\n",
       "   'out_multicast_pkts': 48244,\n",
       "   'out_errors': 0,\n",
       "   'out_underruns': 0,\n",
       "   'out_applique': 0,\n",
       "   'out_resets': 0,\n",
       "   'out_buffer_failure': 0,\n",
       "   'out_buffers_swapped': 0,\n",
       "   'carrier_transitions': 1}}}"
      ]
     },
     "execution_count": 11,
     "metadata": {},
     "output_type": "execute_result"
    }
   ],
   "source": [
    "intfs = xr1.parse('show interfaces Gi0/0/0/0')\n",
    "intfs"
   ]
  },
  {
   "cell_type": "code",
   "execution_count": 12,
   "metadata": {},
   "outputs": [
    {
     "data": {
      "text/plain": [
       "'up'"
      ]
     },
     "execution_count": 12,
     "metadata": {},
     "output_type": "execute_result"
    }
   ],
   "source": [
    "intfs['GigabitEthernet0/0/0/0']['oper_status']"
   ]
  },
  {
   "cell_type": "code",
   "execution_count": 13,
   "metadata": {},
   "outputs": [
    {
     "data": {
      "text/plain": [
       "0"
      ]
     },
     "execution_count": 13,
     "metadata": {},
     "output_type": "execute_result"
    }
   ],
   "source": [
    "intfs['GigabitEthernet0/0/0/0']['counters']['in_crc_errors']"
   ]
  },
  {
   "cell_type": "code",
   "execution_count": 14,
   "metadata": {},
   "outputs": [
    {
     "data": {
      "text/plain": [
       "{'instance': {'all': {'vrf': {'default': {'neighbor': {'10.111.111.2': {'remote_as': 65000,\n",
       "       'link_state': 'external link',\n",
       "       'local_as_as_no': 1,\n",
       "       'local_as_no_prepend': False,\n",
       "       'local_as_replace_as': False,\n",
       "       'local_as_dual_as': False,\n",
       "       'router_id': '11.11.11.11',\n",
       "       'session_state': 'established',\n",
       "       'up_time': '1d06h',\n",
       "       'nsr_state': 'None',\n",
       "       'last_read': '00:00:48',\n",
       "       'last_read_before_reset': '00:00:00',\n",
       "       'holdtime': 180,\n",
       "       'keepalive_interval': 60,\n",
       "       'min_acceptable_hold_time': 3,\n",
       "       'last_write': '00:00:14',\n",
       "       'attempted': 19,\n",
       "       'written': 19,\n",
       "       'second_last_write': '00:01:14',\n",
       "       'second_attempted': 19,\n",
       "       'second_written': 19,\n",
       "       'last_write_before_reset': '00:00:00',\n",
       "       'last_write_attempted': 0,\n",
       "       'last_write_written': 0,\n",
       "       'second_last_write_before_reset': '00:00:00',\n",
       "       'second_last_write_before_attempted': 0,\n",
       "       'second_last_write_before_written': 0,\n",
       "       'last_write_pulse_rcvd': 'Jan 27 20:07:53.353 ',\n",
       "       'last_full_not_set_pulse_count': 3651,\n",
       "       'last_write_pulse_rcvd_before_reset': '00:00:00',\n",
       "       'last_write_thread_event_before_reset': '00:00:00',\n",
       "       'last_write_thread_event_second_last': '00:00:00',\n",
       "       'last_ka_expiry_before_reset': '00:00:00',\n",
       "       'last_ka_expiry_before_second_last': '00:00:00',\n",
       "       'last_ka_error_before_reset': '00:00:00',\n",
       "       'last_ka_error_ka_not_sent': '00:00:00',\n",
       "       'last_ka_start_before_reset': '00:00:00',\n",
       "       'last_ka_start_before_second_last': '00:00:00',\n",
       "       'precedence': 'internet',\n",
       "       'non_stop_routing': True,\n",
       "       'enforcing_first_as': 'enabled',\n",
       "       'multiprotocol_capability': 'received',\n",
       "       'minimum_time_between_adv_runs': 30,\n",
       "       'inbound_message': '3',\n",
       "       'outbound_message': '3',\n",
       "       'address_family': {'ipv4 unicast': {'neighbor_version': 8,\n",
       "         'update_group': '0.2',\n",
       "         'filter_group': '0.1',\n",
       "         'refresh_request_status': 'No Refresh request being processed',\n",
       "         'route_refresh_request_received': 0,\n",
       "         'route_refresh_request_sent': 0,\n",
       "         'route_map_name_in': 'bgp_in',\n",
       "         'route_map_name_out': 'bgp_out',\n",
       "         'accepted_prefixes': 1,\n",
       "         'best_paths': 1,\n",
       "         'exact_no_prefixes_denied': 0,\n",
       "         'cummulative_no_prefixes_denied': 0,\n",
       "         'prefix_advertised': 1,\n",
       "         'prefix_suppressed': 0,\n",
       "         'prefix_withdrawn': 0,\n",
       "         'maximum_prefix_max_prefix_no': 1048576,\n",
       "         'maximum_prefix_warning_only': True,\n",
       "         'maximum_prefix_threshold': '75%',\n",
       "         'maximum_prefix_restart': 0,\n",
       "         'eor_status': 'was received during read-only mode',\n",
       "         'last_synced_ack_version': 0,\n",
       "         'last_ack_version': 8,\n",
       "         'outstanding_version_objects_current': 0,\n",
       "         'outstanding_version_objects_max': 1,\n",
       "         'additional_paths_operation': 'None',\n",
       "         'additional_routes_local_label': 'Unicast SAFI'}},\n",
       "       'bgp_session_transport': {'connection': {'state': 'established',\n",
       "         'connections_established': 1,\n",
       "         'connections_dropped': 0,\n",
       "         'last_reset': '00:00:00'},\n",
       "        'transport': {'local_host': '10.111.111.1',\n",
       "         'local_port': '30416',\n",
       "         'if_handle': '0x00000060',\n",
       "         'foreign_host': '10.111.111.2',\n",
       "         'foreign_port': '179'}}}}}}}}}"
      ]
     },
     "execution_count": 14,
     "metadata": {},
     "output_type": "execute_result"
    }
   ],
   "source": [
    "bgp_nbr = xr1.parse('show bgp neighbors')\n",
    "bgp_nbr"
   ]
  },
  {
   "cell_type": "code",
   "execution_count": 15,
   "metadata": {},
   "outputs": [
    {
     "data": {
      "text/plain": [
       "'established'"
      ]
     },
     "execution_count": 15,
     "metadata": {},
     "output_type": "execute_result"
    }
   ],
   "source": [
    "bgp_nbr['instance']['all']['vrf']['default']['neighbor']['10.111.111.2']['session_state']"
   ]
  },
  {
   "cell_type": "code",
   "execution_count": 16,
   "metadata": {},
   "outputs": [],
   "source": [
    "nbr_ip=bgp_nbr['instance']['all']['vrf']['default']['neighbor']"
   ]
  },
  {
   "cell_type": "code",
   "execution_count": 17,
   "metadata": {},
   "outputs": [
    {
     "name": "stdout",
     "output_type": "stream",
     "text": [
      "established\n"
     ]
    }
   ],
   "source": [
    "for nbr, vals in nbr_ip.items():\n",
    "    state=vals['session_state']\n",
    "    print(state)"
   ]
  },
  {
   "cell_type": "code",
   "execution_count": null,
   "metadata": {},
   "outputs": [],
   "source": [
    "xr1.disconnect()"
   ]
  },
  {
   "cell_type": "code",
   "execution_count": null,
   "metadata": {},
   "outputs": [],
   "source": []
  }
 ],
 "metadata": {
  "kernelspec": {
   "display_name": "py3venv",
   "language": "python",
   "name": "py3venv"
  },
  "language_info": {
   "codemirror_mode": {
    "name": "ipython",
    "version": 3
   },
   "file_extension": ".py",
   "mimetype": "text/x-python",
   "name": "python",
   "nbconvert_exporter": "python",
   "pygments_lexer": "ipython3",
   "version": "3.8.5"
  }
 },
 "nbformat": 4,
 "nbformat_minor": 4
}
